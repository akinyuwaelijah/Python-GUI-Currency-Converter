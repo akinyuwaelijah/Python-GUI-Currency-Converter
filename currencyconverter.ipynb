{
 "cells": [
  {
   "cell_type": "code",
   "execution_count": 4,
   "id": "c69ada30-039d-4f82-99b0-284565606b80",
   "metadata": {},
   "outputs": [],
   "source": [
    "from currency_converter import CurrencyConverter\n",
    "import tkinter as tk\n",
    "c = CurrencyConverter()\n",
    "#print(c.convert(13,\"USD\",\"GBP\"))"
   ]
  },
  {
   "cell_type": "code",
   "execution_count": 7,
   "id": "2f25a90b-c542-4c3e-8a2e-6fb4c8a24da3",
   "metadata": {},
   "outputs": [],
   "source": [
    "window = tk.Tk()\n",
    "window.geometry(\"500x360\")\n",
    "window.title(\"Currency Converter\")\n",
    "\n",
    "\n",
    "def clicked():\n",
    "    amount = int(entry1.get())\n",
    "    cur1 = entry2.get()\n",
    "    cur2 = entry3.get()\n",
    "    data = c.convert(amount,cur1,cur2)\n",
    "    label4 = tk.Label(window,text=data,font = \"Times 16 bold\").place(x = 200, y =300)\n",
    "\n",
    "\n",
    "label = tk.Label(window,text= \"Currency Converter\", font =\"Times 30 bold\").place(x = 80, y = 20)\n",
    "\n",
    "\n",
    "\n",
    "label1 = tk.Label(window,text = \"Enter amount here:\", font = \"Times 16 bold\").place(x=94, y =100)\n",
    "entry1 = tk.Entry(window)\n",
    "\n",
    "\n",
    "label2 = tk.Label(window,text = \"Enter your currency here:\", font = \"Times 16 bold\").place(x=40, y =140)\n",
    "entry2 = tk.Entry(window)\n",
    "\n",
    "label3 = tk.Label(window,text = \"Enter desired currency:\", font = \"Times 16 bold\").place(x=60, y =180)\n",
    "entry3 = tk.Entry(window)\n",
    "\n",
    "button = tk.Button(window,text = \"Convert\", font = \"Times 16 bold\", command=clicked).place(x = 200, y = 220)\n",
    "\n",
    "entry1.place(x = 310, y = 105)\n",
    "entry2.place(x = 310, y = 145)\n",
    "entry3.place(x = 310, y = 185)\n",
    "\n",
    "\n",
    "\n",
    "\n",
    "\n",
    "window.mainloop()"
   ]
  },
  {
   "cell_type": "code",
   "execution_count": null,
   "id": "f6bf35c2-8a2a-4284-905f-0d4f080c3620",
   "metadata": {},
   "outputs": [],
   "source": []
  },
  {
   "cell_type": "code",
   "execution_count": null,
   "id": "1075f28e-1421-44b7-9584-8bc4b2382b10",
   "metadata": {},
   "outputs": [],
   "source": []
  }
 ],
 "metadata": {
  "kernelspec": {
   "display_name": "Python [conda env:base] *",
   "language": "python",
   "name": "conda-base-py"
  },
  "language_info": {
   "codemirror_mode": {
    "name": "ipython",
    "version": 3
   },
   "file_extension": ".py",
   "mimetype": "text/x-python",
   "name": "python",
   "nbconvert_exporter": "python",
   "pygments_lexer": "ipython3",
   "version": "3.12.7"
  }
 },
 "nbformat": 4,
 "nbformat_minor": 5
}
